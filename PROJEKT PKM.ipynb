{
 "cells": [
  {
   "cell_type": "code",
   "execution_count": 26,
   "metadata": {},
   "outputs": [],
   "source": [
    "from IPython.display import Math, display\n",
    "import sympy as s\n",
    "\n",
    "def funkcja(equation,a,nazwa,acc,unit='',pref=''):\n",
    "    try:\n",
    "        a_st=[]\n",
    "        for e,i in enumerate(a):\n",
    "            a_st.append(str(i))   \n",
    "        a_s=s.symbols(nazwa)\n",
    "        expr=s.sympify(equation)\n",
    "        lista_1=[]\n",
    "        for e,i in enumerate(a_s):\n",
    "            lista_1.append([i,a_st[e]])\n",
    "        #print(lista_1)\n",
    "        wynik=expr.subs(lista_1)\n",
    "        lista_2=[]\n",
    "        for e,i in enumerate(a_s):\n",
    "            lista_2.append([i,a[e]])\n",
    "        wynik_k=expr.subs(lista_2)\n",
    "        c=wynik_k.evalf(acc)\n",
    "\n",
    "        f=s.Eq(expr,wynik)\n",
    "        slowo=''\n",
    "        #slowo='$'\n",
    "        slowo+=pref\n",
    "        slowo+=s.latex(expr)\n",
    "        slowo+='='\n",
    "        slowo+=s.latex(wynik)\n",
    "        #slowo+=s.latex(f)\n",
    "        slowo+='='\n",
    "        slowo+=s.latex(c)\n",
    "        slowo+=unit\n",
    "        slowo+=2*chr(92)\n",
    "        #slowo+='$'\n",
    "\n",
    "        display(Math(slowo))\n",
    "       \n",
    "        return c \n",
    "    except Exception as e:\n",
    "        print(\"sprobuj jeszcze raz \",e)\n",
    "   "
   ]
  },
  {
   "cell_type": "markdown",
   "metadata": {},
   "source": [
    "$F_{obl}=3657N\\:L=496mm\\:X_w=3.5-5$"
   ]
  },
  {
   "cell_type": "markdown",
   "metadata": {},
   "source": [
    "- $dr_t$-średnica  rdzenia teoreyczna\n",
    "- $dw_t$-średnica drążenia teoretyczna\n",
    "- $\\sigma_c$-naprężenia\n",
    "- $\\lambda_{obl}$ -smukłość obliczona\n",
    "- $i_{min}$ -minimalny promień bezwładności\n",
    "- $J$-moment bezwładności\n",
    "- $A$-powierzchnia przekroju poprzecznego\n",
    "- $P_t$-skok teoretyczny\n"
   ]
  },
  {
   "cell_type": "code",
   "execution_count": 6,
   "metadata": {},
   "outputs": [
    {
     "data": {
      "text/latex": [
       "$\\displaystyle Fc=1.7 Fst=1.7 \\cdot 3657=6217.0N\\\\$"
      ],
      "text/plain": [
       "<IPython.core.display.Math object>"
      ]
     },
     "metadata": {},
     "output_type": "display_data"
    }
   ],
   "source": [
    "Fobl=3657\n",
    "Fc=funkcja('Fst*1.7',[Fobl,1],'Fst,a',4,'N','Fc=')"
   ]
  },
  {
   "cell_type": "code",
   "execution_count": 42,
   "metadata": {},
   "outputs": [
    {
     "data": {
      "text/latex": [
       "$\\displaystyle dr_t=\\frac{2 \\sqrt{2} \\sqrt[4]{\\frac{Fc L^{2} Xw \\beta_{}^{2}}{E_{} \\left(- \\alpha^{4} + 1\\right)}}}{\\pi^{\\frac{3}{4}}}=\\frac{2 \\sqrt{2} \\sqrt[4]{\\frac{1^{2} \\cdot 4 \\cdot 496^{2} \\cdot 6216}{210000.0 \\left(- 0.8^{4} + 1\\right)}}}{\\pi^{\\frac{3}{4}}}=17.9mm\\\\$"
      ],
      "text/plain": [
       "<IPython.core.display.Math object>"
      ]
     },
     "metadata": {},
     "output_type": "display_data"
    }
   ],
   "source": [
    "E=2.1*10**5\n",
    "beta=1\n",
    "alpha=0.8\n",
    "Xw=4\n",
    "L=496\n",
    "drt=funkcja('root((64*Xw*Fc*beta_^2*L^2)/(pi^3*(1-alpha^4)*E_),4)',[Xw,int(Fc),beta,L,alpha,E],\n",
    "            'Xw Fc beta_ L alpha E_',3,'mm','dr_t=')"
   ]
  },
  {
   "cell_type": "code",
   "execution_count": 46,
   "metadata": {},
   "outputs": [
    {
     "data": {
      "text/latex": [
       "$\\displaystyle dw_t=\\alpha drt=0.8 \\cdot 17.9=14.3mm\\\\$"
      ],
      "text/plain": [
       "<IPython.core.display.Math object>"
      ]
     },
     "metadata": {},
     "output_type": "display_data"
    }
   ],
   "source": [
    "dwt=funkcja('alpha*drt',[drt,alpha],'drt alpha',3,'mm','dw_t=')"
   ]
  },
  {
   "cell_type": "code",
   "execution_count": 63,
   "metadata": {},
   "outputs": [
    {
     "data": {
      "text/latex": [
       "$\\displaystyle Lw=L \\beta_{}=1 \\cdot 496=496.0mm\\\\$"
      ],
      "text/plain": [
       "<IPython.core.display.Math object>"
      ]
     },
     "metadata": {},
     "output_type": "display_data"
    },
    {
     "data": {
      "text/latex": [
       "$\\displaystyle J=\\frac{\\pi \\left(dr_{t}^{4} - dw_{t}^{4}\\right)}{64}=\\frac{\\pi \\left(- 14.3^{4} + 17.9^{4}\\right)}{64}=2951.0mm^4\\\\$"
      ],
      "text/plain": [
       "<IPython.core.display.Math object>"
      ]
     },
     "metadata": {},
     "output_type": "display_data"
    },
    {
     "data": {
      "text/latex": [
       "$\\displaystyle A=\\frac{\\pi \\left(dr_{t}^{2} - dw_{t}^{2}\\right)}{4}=\\frac{\\pi \\left(- 14.3^{2} + 17.9^{2}\\right)}{4}=90.25mm^4\\\\$"
      ],
      "text/plain": [
       "<IPython.core.display.Math object>"
      ]
     },
     "metadata": {},
     "output_type": "display_data"
    },
    {
     "data": {
      "text/latex": [
       "$\\displaystyle imin=\\sqrt{\\frac{J}{A}}=\\sqrt{\\frac{2951.}{90.25}}=5.718mm\\\\$"
      ],
      "text/plain": [
       "<IPython.core.display.Math object>"
      ]
     },
     "metadata": {},
     "output_type": "display_data"
    },
    {
     "data": {
      "text/latex": [
       "$\\displaystyle \\lambda_{obl}=\\frac{Lw}{imin}=\\frac{496.}{5.718}=86.8\\\\$"
      ],
      "text/plain": [
       "<IPython.core.display.Math object>"
      ]
     },
     "metadata": {},
     "output_type": "display_data"
    },
    {
     "data": {
      "text/latex": [
       "$\\displaystyle Pt=\\pi dr_{t} \\tan{\\left (\\gamma_{} \\right )}=\\pi 17.9 \\tan{\\left (0.07 \\right )}=3.935mm\\\\$"
      ],
      "text/plain": [
       "<IPython.core.display.Math object>"
      ]
     },
     "metadata": {},
     "output_type": "display_data"
    }
   ],
   "source": [
    "Lw=funkcja('L*beta_',[L,beta],'L beta_',3,'mm','Lw=')\n",
    "J=funkcja('pi*(dr_t^4-dw_t^4)/64',[drt, dwt],'dr_t dw_t',4,'mm^4','J=')\n",
    "A=funkcja('pi*(dr_t^2-dw_t^2)/4',[drt, dwt],'dr_t dw_t',4,'mm^4','A=')\n",
    "imin=funkcja('sqrt(J/A)',[J, A],'J A',4,'mm','imin=')\n",
    "lambdaobl=funkcja('Lw/imin',[Lw, imin],'Lw imin',3,pref='\\lambda_{obl}=')\n",
    "Pt=funkcja('pi*dr_t*tan(gamma_)',[drt, round(4*3.14/180,3)],'dr_t gamma_',4,'mm','Pt=')"
   ]
  },
  {
   "cell_type": "markdown",
   "metadata": {},
   "source": [
    "Wg ISO dobieram $P=4mm$ "
   ]
  },
  {
   "cell_type": "markdown",
   "metadata": {},
   "source": [
    "$\\;$"
   ]
  },
  {
   "cell_type": "markdown",
   "metadata": {},
   "source": [
    "Średnica romieszczenia kulek $d_o$:"
   ]
  },
  {
   "cell_type": "code",
   "execution_count": 64,
   "metadata": {},
   "outputs": [
    {
     "data": {
      "text/latex": [
       "$\\displaystyle d_o=0.6 P + drt=17.9 + 0.6 \\cdot 4=20.3mm\\\\$"
      ],
      "text/plain": [
       "<IPython.core.display.Math object>"
      ]
     },
     "metadata": {},
     "output_type": "display_data"
    }
   ],
   "source": [
    "P=4\n",
    "do=funkcja('drt+0.6*P',[drt,P],'drt P',3,'mm','d_o=')"
   ]
  },
  {
   "cell_type": "markdown",
   "metadata": {},
   "source": [
    "$d_o$ wg ISO dobieram 25mm"
   ]
  },
  {
   "cell_type": "markdown",
   "metadata": {},
   "source": [
    "$\\;$"
   ]
  },
  {
   "cell_type": "markdown",
   "metadata": {},
   "source": [
    "Średnica kulki $d_k$"
   ]
  },
  {
   "cell_type": "code",
   "execution_count": 80,
   "metadata": {},
   "outputs": [
    {
     "data": {
      "text/latex": [
       "$\\displaystyle d_k=0.55 P=0.55 \\cdot 4=2.2mm\\\\$"
      ],
      "text/plain": [
       "<IPython.core.display.Math object>"
      ]
     },
     "metadata": {},
     "output_type": "display_data"
    }
   ],
   "source": [
    "do=25\n",
    "dk=funkcja('0.55*P',[P,1],'P a',3,'mm','d_k=')"
   ]
  },
  {
   "cell_type": "markdown",
   "metadata": {},
   "source": [
    "Średnicę kulki dobieram $2.5mm$ wg normy PN-83/M86452"
   ]
  },
  {
   "cell_type": "markdown",
   "metadata": {},
   "source": [
    "- $R-promień\\: zarysu\\:gwintu$\n",
    "- $C-promień\\:przesunięcia\\:zarysu\\:gwintu$\n",
    "- $h-wysokość\\:gwintu$"
   ]
  },
  {
   "cell_type": "code",
   "execution_count": 81,
   "metadata": {},
   "outputs": [
    {
     "data": {
      "text/latex": [
       "$\\displaystyle R=0.515 dk=0.515 \\cdot 2.5=1.29mm\\\\$"
      ],
      "text/plain": [
       "<IPython.core.display.Math object>"
      ]
     },
     "metadata": {},
     "output_type": "display_data"
    },
    {
     "data": {
      "text/latex": [
       "$\\displaystyle h=0.3 dk=0.3 \\cdot 2.5=0.75mm\\\\$"
      ],
      "text/plain": [
       "<IPython.core.display.Math object>"
      ]
     },
     "metadata": {},
     "output_type": "display_data"
    },
    {
     "data": {
      "text/latex": [
       "$\\displaystyle C=\\left(R - \\frac{dk}{2}\\right) \\cos{\\left (\\chi \\right )}=\\left(1.29 - \\frac{2.5}{2}\\right) \\cos{\\left (0.785 \\right )}=0.027mm\\\\$"
      ],
      "text/plain": [
       "<IPython.core.display.Math object>"
      ]
     },
     "metadata": {},
     "output_type": "display_data"
    }
   ],
   "source": [
    "dk=2.5\n",
    "R=funkcja('0.515*dk',[dk,1],'dk a',3,'mm','R=')\n",
    "h=funkcja('0.3*dk',[dk,1],'dk a',3,'mm','h=')\n",
    "C=funkcja('(R-dk/2)*cos(chi)',[R,dk,round(45*3.14/180,3)],'R dk chi',2,'mm','C=')"
   ]
  },
  {
   "cell_type": "markdown",
   "metadata": {},
   "source": [
    "Rzeczywista średnica gwintu $dr$ i otworu $dw$"
   ]
  },
  {
   "cell_type": "markdown",
   "metadata": {},
   "source": [
    "$\\;$"
   ]
  },
  {
   "cell_type": "code",
   "execution_count": 82,
   "metadata": {},
   "outputs": [
    {
     "data": {
      "text/latex": [
       "$\\displaystyle dr=2 C - 2 R + do=2 \\cdot 0.027 - 2 \\cdot 1.29 + 25=22.48mm\\\\$"
      ],
      "text/plain": [
       "<IPython.core.display.Math object>"
      ]
     },
     "metadata": {},
     "output_type": "display_data"
    },
    {
     "data": {
      "text/latex": [
       "$\\displaystyle dw=\\alpha dr=0.8 \\cdot 22.48=17.98mm\\\\$"
      ],
      "text/plain": [
       "<IPython.core.display.Math object>"
      ]
     },
     "metadata": {},
     "output_type": "display_data"
    }
   ],
   "source": [
    "dr=funkcja('do-2*(R-C)',[do,R,C],'do R C',4,'mm','dr=')\n",
    "dw=funkcja('alpha*dr',[dr,alpha],'dr alpha',4,'mm','dw=')"
   ]
  },
  {
   "cell_type": "markdown",
   "metadata": {},
   "source": [
    "Rzeczywista średnica zewnętrzna śruby $d$:"
   ]
  },
  {
   "cell_type": "markdown",
   "metadata": {},
   "source": [
    "$\\;$"
   ]
  },
  {
   "cell_type": "code",
   "execution_count": 85,
   "metadata": {},
   "outputs": [
    {
     "data": {
      "text/latex": [
       "$\\displaystyle d=dr + 2 h=2 \\cdot 0.750 + 22.48=24.0mm\\\\$"
      ],
      "text/plain": [
       "<IPython.core.display.Math object>"
      ]
     },
     "metadata": {},
     "output_type": "display_data"
    }
   ],
   "source": [
    "d=funkcja('dr+2*h',[dr,h],'dr h',3,'mm','d=')"
   ]
  },
  {
   "cell_type": "markdown",
   "metadata": {},
   "source": [
    "Stal 30HGS:\n",
    "- $Re=850MPa$\n",
    "- $Rh=680MPa$"
   ]
  },
  {
   "cell_type": "markdown",
   "metadata": {},
   "source": [
    "$$\\lambda_{obl}>\\lambda_{gr}$$"
   ]
  },
  {
   "cell_type": "code",
   "execution_count": 87,
   "metadata": {},
   "outputs": [
    {
     "data": {
      "text/latex": [
       "$\\displaystyle \\lambda_{gr}=\\pi \\sqrt{\\frac{E_{}}{Rh}}=\\pi \\sqrt{\\frac{210000.0}{680}}=55.2\\\\$"
      ],
      "text/plain": [
       "<IPython.core.display.Math object>"
      ]
     },
     "metadata": {},
     "output_type": "display_data"
    }
   ],
   "source": [
    "Rh=680\n",
    "lambdagraniczne=funkcja('sqrt(E_/Rh)*pi',[E,Rh],'E_ Rh',3,pref='\\lambda_{gr}=')"
   ]
  },
  {
   "cell_type": "markdown",
   "metadata": {},
   "source": [
    "$\\lambda_{obl}$ wynosi $86.8$ więc warunek jest spełniony"
   ]
  },
  {
   "cell_type": "markdown",
   "metadata": {},
   "source": [
    "$\\;$"
   ]
  },
  {
   "cell_type": "markdown",
   "metadata": {},
   "source": [
    "Rzeczywisty kąt wzniosu linii śrubowej:"
   ]
  },
  {
   "cell_type": "code",
   "execution_count": 92,
   "metadata": {},
   "outputs": [
    {
     "data": {
      "text/latex": [
       "$\\displaystyle \\gamma=\\frac{180 \\operatorname{atan}{\\left (\\frac{P}{\\pi dr} \\right )}}{\\pi}=\\frac{180 \\operatorname{atan}{\\left (\\frac{4}{\\pi 22.48} \\right )}}{\\pi}=3.24°\\\\$"
      ],
      "text/plain": [
       "<IPython.core.display.Math object>"
      ]
     },
     "metadata": {},
     "output_type": "display_data"
    }
   ],
   "source": [
    "gamma=funkcja('atan(P/(pi*dr))*180/pi',[P, dr],'P dr',3,'°','\\gamma=')"
   ]
  },
  {
   "cell_type": "markdown",
   "metadata": {},
   "source": [
    "- $N_{dop}-dopuszczalne \\: obciążenie \\: jednej\\: kulki$\n",
    "- $n-liczba\\: kulek$\n",
    "- $s=0,8-współczynnik\\:błędu\\:wykonania$\n",
    "- $a_{min}-minimalna\\:liczba\\:zwoi$\n"
   ]
  },
  {
   "cell_type": "code",
   "execution_count": 106,
   "metadata": {},
   "outputs": [
    {
     "data": {
      "text/latex": [
       "$\\displaystyle N_{dop}=19.62 dk^{2}=19.62 \\cdot 2.5^{2}=123.0N\\\\$"
      ],
      "text/plain": [
       "<IPython.core.display.Math object>"
      ]
     },
     "metadata": {},
     "output_type": "display_data"
    },
    {
     "data": {
      "text/latex": [
       "$\\displaystyle n=\\frac{Fc}{Ndop s \\sin{\\left (\\chi \\right )} \\cos{\\left (\\chi \\right )}}=\\frac{6217.}{0.8 \\cdot 123. \\sin{\\left (0.785 \\right )} \\cos{\\left (0.785 \\right )}}=126.76=127\\\\$"
      ],
      "text/plain": [
       "<IPython.core.display.Math object>"
      ]
     },
     "metadata": {},
     "output_type": "display_data"
    }
   ],
   "source": [
    "Ndop=funkcja('19.62*dk^2',[dk,1],'dk a',3,'N','N_{dop}=')\n",
    "n=funkcja('Fc/(Ndop*sin(chi)*cos(chi)*s)',[Fc,\n",
    "                                           Ndop,round(45*3.14/180,3),0.8],'Fc Ndop chi s',5,'=127',pref='n=')"
   ]
  },
  {
   "cell_type": "code",
   "execution_count": 109,
   "metadata": {},
   "outputs": [
    {
     "data": {
      "text/latex": [
       "$\\displaystyle a_{min}=\\frac{dk n}{\\pi do}=\\frac{127 \\cdot 2.5}{\\pi 25}=4.04\\\\$"
      ],
      "text/plain": [
       "<IPython.core.display.Math object>"
      ]
     },
     "metadata": {},
     "output_type": "display_data"
    }
   ],
   "source": [
    "a_min=funkcja('dk*n/(pi*do)',[dk, int(n+1), do],'dk n do',3,pref='a_{min}=')"
   ]
  },
  {
   "cell_type": "markdown",
   "metadata": {},
   "source": [
    "$a_{min}$ zaokrąglam w górę do najlbiżej liczby parzystej czyli $6$. Dodatkowo należy jeszcze uwzględnić dwukrotnie po pół zwoju na przejście. "
   ]
  }
 ],
 "metadata": {
  "kernelspec": {
   "display_name": "Python 3",
   "language": "python",
   "name": "python3"
  },
  "language_info": {
   "codemirror_mode": {
    "name": "ipython",
    "version": 3
   },
   "file_extension": ".py",
   "mimetype": "text/x-python",
   "name": "python",
   "nbconvert_exporter": "python",
   "pygments_lexer": "ipython3",
   "version": "3.6.7"
  }
 },
 "nbformat": 4,
 "nbformat_minor": 2
}
